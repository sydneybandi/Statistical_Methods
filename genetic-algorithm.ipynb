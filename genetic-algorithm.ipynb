{
 "cells": [
  {
   "cell_type": "code",
   "execution_count": 1,
   "metadata": {},
   "outputs": [],
   "source": [
    "import numpy as np\n",
    "from random import randint, random\n",
    "from operator import add"
   ]
  },
  {
   "cell_type": "code",
   "execution_count": 2,
   "metadata": {},
   "outputs": [],
   "source": [
    "def individual(length, min, max):\n",
    "    return [ randint(min,max) for x in range(length) ]"
   ]
  },
  {
   "cell_type": "code",
   "execution_count": 3,
   "metadata": {},
   "outputs": [],
   "source": [
    "def population(count, length, min, max):\n",
    "    return [ individual(length, min, max) for x in range(count)]"
   ]
  },
  {
   "cell_type": "code",
   "execution_count": 4,
   "metadata": {},
   "outputs": [],
   "source": [
    "def fitness(individual, target):\n",
    "    val = sum(individual)\n",
    "    fitness = abs(target-val)\n",
    "    return fitness"
   ]
  },
  {
   "cell_type": "code",
   "execution_count": 5,
   "metadata": {},
   "outputs": [],
   "source": [
    "def evolve(pop, target, retain=0.2, random_select=0.05, mutate=0.01):\n",
    "    \n",
    "    # retain only high performing parents \n",
    "    graded = [(fitness(x, target), x) for x in pop]\n",
    "    sorted_pop = [x[1] for x in sorted(graded)]\n",
    "    retain_length = int(len(sorted_pop)*retain)\n",
    "    parents = sorted_pop[:retain_length]\n",
    "    \n",
    "    # randomly add other individuals to promote genetic diversity\n",
    "    for individual in sorted_pop[retain_length:]:\n",
    "        if random_select > random():\n",
    "            parents.append(individual)\n",
    "    \n",
    "    # mutate some individuals\n",
    "    for individual in parents:       \n",
    "        if mutate > random():\n",
    "            pos_to_mutate = randint(0, len(individual)-1)\n",
    "            individual[pos_to_mutate] = randint(min(individual), max(individual))\n",
    "    \n",
    "    # crossover parents to create children\n",
    "    parents_length = len(parents)\n",
    "    desired_length = len(pop) - parents_length\n",
    "    children = []\n",
    "    \n",
    "    while len(children) < desired_length:\n",
    "        male = randint(0, parents_length-1)\n",
    "        female = randint(0, parents_length-1)\n",
    "        if male != female:\n",
    "            male = parents[male]\n",
    "            female = parents[female]\n",
    "            half = int(np.ceil(len(male) / 2))\n",
    "            child = male[:half] + female[half:]\n",
    "            children.append(child)        \n",
    "    parents.extend(children)\n",
    "    return parents"
   ]
  },
  {
   "cell_type": "code",
   "execution_count": 19,
   "metadata": {},
   "outputs": [
    {
     "name": "stdout",
     "output_type": "stream",
     "text": [
      "fit  0 : [23, 16, 21, 57, 126, 157, 89, 49, 6, 14, 11, 14, 34, 14, 41, 6, 41, 2, 6, 26]\n",
      "fit  1 : [0, 6, 6, 6, 6, 6, 29, 6, 6, 29, 6, 23, 6, 6, 23, 6, 29, 6, 23, 6]\n",
      "best_ind: [75, 6, 29, 15, 75]\n"
     ]
    }
   ],
   "source": [
    "target = 200\n",
    "p_count = 20\n",
    "i_length = 5\n",
    "i_min = 0\n",
    "i_max = 100\n",
    "\n",
    "p = population(p_count, i_length, i_min, i_max)\n",
    "\n",
    "for i in range(50):\n",
    "    p = evolve(p, target, mutate=0.5)\n",
    "    current_fit = [fitness(x, target) for x in p]\n",
    "    print(\"fit \", i, \":\", current_fit)\n",
    "    \n",
    "    if 0 in current_fit:\n",
    "        best_ind = p[current_fit.index(0)]\n",
    "        print(\"best_ind:\", best_ind)\n",
    "        break"
   ]
  },
  {
   "cell_type": "markdown",
   "metadata": {},
   "source": [
    "#### Source: https://lethain.com/genetic-algorithms-cool-name-damn-simple/ "
   ]
  },
  {
   "cell_type": "code",
   "execution_count": null,
   "metadata": {},
   "outputs": [],
   "source": []
  }
 ],
 "metadata": {
  "kernelspec": {
   "display_name": "Python 3",
   "language": "python",
   "name": "python3"
  },
  "language_info": {
   "codemirror_mode": {
    "name": "ipython",
    "version": 3
   },
   "file_extension": ".py",
   "mimetype": "text/x-python",
   "name": "python",
   "nbconvert_exporter": "python",
   "pygments_lexer": "ipython3",
   "version": "3.7.3"
  }
 },
 "nbformat": 4,
 "nbformat_minor": 2
}
